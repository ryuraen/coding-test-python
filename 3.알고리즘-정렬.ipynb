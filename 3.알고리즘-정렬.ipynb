{
 "cells": [
  {
   "attachments": {},
   "cell_type": "markdown",
   "metadata": {},
   "source": [
    "[1.Quick Sort]<BR>\n",
    "  1)nlogn<BR>\n",
    "  2)PIVOT은 IDX[0], IDX[MID], IDX[-1] 3 중 1개를 편한대로 사용"
   ]
  },
  {
   "cell_type": "code",
   "execution_count": 19,
   "metadata": {},
   "outputs": [
    {
     "name": "stdout",
     "output_type": "stream",
     "text": [
      "[1, 2, 2, 3, 3, 4, 5, 9]\n"
     ]
    }
   ],
   "source": [
    "def quicksort(arr = []):\n",
    "    # 1개 이하인 경우는 정렬하지 않음\n",
    "    if len(arr) <= 1:\n",
    "        return arr\n",
    "    \n",
    "    left, equal, right = [], [], []\n",
    "    pivot = arr[len(arr) // 2]\n",
    "    \n",
    "    # pivot 기준 좌 / 중 / 우 분할\n",
    "    for value in arr:\n",
    "        if value < pivot:\n",
    "            left.append(value)\n",
    "        elif value == pivot:\n",
    "            equal.append(value)\n",
    "        else:\n",
    "            right.append(value)\n",
    "            \n",
    "    #재귀함수 사용\n",
    "    return quicksort(left) + equal + quicksort(right)\n",
    "\n",
    "#test input\n",
    "test = [1,3,2,4,5,3,2,9]\n",
    "print(quicksort(test))"
   ]
  },
  {
   "attachments": {},
   "cell_type": "markdown",
   "metadata": {},
   "source": [
    "<hr>"
   ]
  },
  {
   "attachments": {},
   "cell_type": "markdown",
   "metadata": {},
   "source": [
    "[2.bubble sort]<BR>\n",
    "  1)n ** 2<BR>\n",
    "  2)간단하게 사용 가능하나 속도에서 Quicksort, Mergesort보다 안좋음\n"
   ]
  },
  {
   "cell_type": "code",
   "execution_count": 22,
   "metadata": {},
   "outputs": [
    {
     "name": "stdout",
     "output_type": "stream",
     "text": [
      "[1, 2, 2, 3, 3, 4, 5, 9]\n"
     ]
    }
   ],
   "source": [
    "def bubbleSort(arr = []):\n",
    "    while True:\n",
    "        chgN = 0\n",
    "        for i in range(len(arr) - 1):\n",
    "            if arr[i] > arr[i + 1]:\n",
    "                arr[i], arr[i + 1] = arr[i + 1], arr[i]\n",
    "                chgN += 1\n",
    "        if chgN == 0:\n",
    "            break\n",
    "    return arr\n",
    "        \n",
    "#test input\n",
    "test = [1,3,2,4,5,3,2,9]\n",
    "print(bubbleSort(test))"
   ]
  }
 ],
 "metadata": {
  "kernelspec": {
   "display_name": "Python 3",
   "language": "python",
   "name": "python3"
  },
  "language_info": {
   "name": "python",
   "version": "3.10.10"
  },
  "orig_nbformat": 4,
  "vscode": {
   "interpreter": {
    "hash": "66eba28a75a64fbe1a9b9c30d27f7c856726c51cbbef86297708eae4ce175db0"
   }
  }
 },
 "nbformat": 4,
 "nbformat_minor": 2
}
