{
 "cells": [
  {
   "attachments": {},
   "cell_type": "markdown",
   "metadata": {},
   "source": [
    "[1.STACK]<BR>\n",
    "  1) 파이썬에서는 일반 List[] 사용<BR>\n",
    "  2) pop > pop(), peak > list[-1], push > append(), isNull > is not<BR>\n",
    "  3) LIFO(Last In First Out)"
   ]
  },
  {
   "cell_type": "code",
   "execution_count": 5,
   "metadata": {},
   "outputs": [
    {
     "name": "stdout",
     "output_type": "stream",
     "text": [
      "[1]\n",
      "1\n",
      "[]\n",
      "null\n"
     ]
    }
   ],
   "source": [
    "stack = []\n",
    "\n",
    "# stack push\n",
    "stack.append(1)\n",
    "print(stack)\n",
    "\n",
    "# stack peak\n",
    "print(stack[-1])\n",
    "\n",
    "# stack pop\n",
    "stack.pop()\n",
    "print(stack)\n",
    "\n",
    "# stack isNull\n",
    "print(\"null\" if not stack else \"notNull\")"
   ]
  },
  {
   "attachments": {},
   "cell_type": "markdown",
   "metadata": {},
   "source": [
    "<hr>"
   ]
  },
  {
   "attachments": {},
   "cell_type": "markdown",
   "metadata": {},
   "source": [
    "[2.QUEUE]<BR>\n",
    "  1) 파이썬에서는 deque를 import해서 사용 - queue도 있지만 deque가 삽입 , 삭제 성능이 더 좋다. STACK도 LIST보다 빠름<BR>\n",
    "  2) pop > popleft(), peak > queue[0], push > append(), isNull > is not<BR>\n",
    "  3) FIFO(First In First Out)\n"
   ]
  },
  {
   "cell_type": "code",
   "execution_count": 7,
   "metadata": {},
   "outputs": [
    {
     "name": "stdout",
     "output_type": "stream",
     "text": [
      "deque([1, 2])\n",
      "1\n",
      "결과 :  deque([2])\n",
      "notNull\n"
     ]
    }
   ],
   "source": [
    "from collections import deque\n",
    "\n",
    "queue = deque()\n",
    "\n",
    "#QUEUE PUSH\n",
    "queue.append(1)\n",
    "queue.append(2)\n",
    "print(queue)\n",
    "\n",
    "#QUEUE POP\n",
    "print(queue.popleft())\n",
    "print(\"결과 : \", queue)\n",
    "\n",
    "#QUEUE isNull\n",
    "print(\"null\" if not queue else \"notNull\" )\n"
   ]
  }
 ],
 "metadata": {
  "kernelspec": {
   "display_name": "Python 3",
   "language": "python",
   "name": "python3"
  },
  "language_info": {
   "codemirror_mode": {
    "name": "ipython",
    "version": 3
   },
   "file_extension": ".py",
   "mimetype": "text/x-python",
   "name": "python",
   "nbconvert_exporter": "python",
   "pygments_lexer": "ipython3",
   "version": "3.10.10"
  },
  "orig_nbformat": 4,
  "vscode": {
   "interpreter": {
    "hash": "66eba28a75a64fbe1a9b9c30d27f7c856726c51cbbef86297708eae4ce175db0"
   }
  }
 },
 "nbformat": 4,
 "nbformat_minor": 2
}
