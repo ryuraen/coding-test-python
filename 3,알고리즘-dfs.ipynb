{
 "cells": [
  {
   "attachments": {},
   "cell_type": "markdown",
   "metadata": {},
   "source": [
    "[1.DFS(Depth First Search), 깊이 우선 탐색]<BR>\n",
    "  1)재귀함수 사용<BR>\n",
    "  2)Stack 사용"
   ]
  },
  {
   "cell_type": "code",
   "execution_count": 2,
   "metadata": {},
   "outputs": [
    {
     "name": "stdout",
     "output_type": "stream",
     "text": [
      "A C F E B D "
     ]
    }
   ],
   "source": [
    "#재귀함수를 사용한 DFS\n",
    "#graph = 딕셔너리로 구현된 인접 List\n",
    "#start = 탐색 시작 node\n",
    "#visited = 방문한 노드의 SET\n",
    "def dfs_recursive(graph, start, visited = None):\n",
    "    if visited is None:\n",
    "        visited = set()\n",
    "    visited.add(start)\n",
    "    print(start, end=' ')\n",
    "    \n",
    "    for neighbor in graph[start]:\n",
    "        if neighbor not in visited:\n",
    "            dfs_recursive(graph, neighbor, visited)\n",
    "\n",
    "graph = {'A': set(['B', 'C']),\n",
    "         'B': set(['A', 'D', 'E']),\n",
    "         'C': set(['A', 'F']),\n",
    "         'D': set(['B']),\n",
    "         'E': set(['B', 'F']),\n",
    "         'F': set(['C', 'E'])}\n",
    "\n",
    "dfs_recursive(graph, 'A')"
   ]
  },
  {
   "attachments": {},
   "cell_type": "markdown",
   "metadata": {},
   "source": [
    "<hr>"
   ]
  },
  {
   "cell_type": "code",
   "execution_count": 6,
   "metadata": {},
   "outputs": [
    {
     "name": "stdout",
     "output_type": "stream",
     "text": [
      "{'C', 'B', 'D', 'E', 'A', 'F'}\n"
     ]
    }
   ],
   "source": [
    "#stack 자료구조를 활용한 DFS\n",
    "#graph = 딕셔너리로 구현된 인접 List\n",
    "#start = 탐색 시작 node\n",
    "#visited = 방문한 노드의 SET\n",
    "\n",
    "def dfs_stack(graph, start):\n",
    "    # 방문한 노드 저장\n",
    "    visited = set()\n",
    "    #stack 생성 후 start 부터 시작\n",
    "    stack = [start]\n",
    "    \n",
    "    while stack:\n",
    "        node = stack.pop()\n",
    "        if node not in visited:\n",
    "            # node를 방문에 추가함\n",
    "            visited.add(node)\n",
    "            # graph 노드에서 방문하지 않은 부분을 stack에 추가\n",
    "            stack.extend(graph[node] - visited)\n",
    "    return visited\n",
    "\n",
    "graph = {'A': set(['B', 'C']),\n",
    "         'B': set(['A', 'D', 'E']),\n",
    "         'C': set(['A', 'F']),\n",
    "         'D': set(['B']),\n",
    "         'E': set(['B', 'F']),\n",
    "         'F': set(['C', 'E'])}\n",
    "\n",
    "print(dfs_stack(graph, 'A'))\n",
    "    "
   ]
  }
 ],
 "metadata": {
  "kernelspec": {
   "display_name": "Python 3",
   "language": "python",
   "name": "python3"
  },
  "language_info": {
   "codemirror_mode": {
    "name": "ipython",
    "version": 3
   },
   "file_extension": ".py",
   "mimetype": "text/x-python",
   "name": "python",
   "nbconvert_exporter": "python",
   "pygments_lexer": "ipython3",
   "version": "3.10.8"
  },
  "orig_nbformat": 4,
  "vscode": {
   "interpreter": {
    "hash": "b86f0d4ea28163f4bab88e798f3f85fe40c433810045273b6483a3497764c599"
   }
  }
 },
 "nbformat": 4,
 "nbformat_minor": 2
}
